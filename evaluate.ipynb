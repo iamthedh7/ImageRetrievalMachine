{
 "cells": [
  {
   "cell_type": "code",
   "execution_count": 13,
   "metadata": {
    "collapsed": true
   },
   "outputs": [],
   "source": [
    "import os\n",
    "from numpy import load\n",
    "import numpy as np\n",
    "import cv2\n",
    "import pandas as pd\n",
    "from tensorflow.keras.applications.efficientnet import EfficientNetB7\n",
    "from tensorflow.keras.preprocessing import image\n",
    "from tensorflow.keras.applications.efficientnet import preprocess_input\n",
    "from sklearn.neighbors import KDTree"
   ]
  },
  {
   "cell_type": "code",
   "execution_count": 3,
   "metadata": {
    "collapsed": false
   },
   "outputs": [],
   "source": [
    "feature_list = load(r'npy\\feature_list.npy')\n",
    "feature_id = load(r'npy\\feature_id.npy')\n",
    "feature_id = feature_id.tolist()\n",
    "\n",
    "model = EfficientNetB7(include_top=False)\n",
    "kd = KDTree(feature_list)"
   ]
  },
  {
   "cell_type": "code",
   "execution_count": 4,
   "metadata": {
    "collapsed": false
   },
   "outputs": [],
   "source": [
    "def feature_extract(img_path, model):\n",
    "    img = image.load_img(img_path, target_size=(224, 224))\n",
    "    x = image.img_to_array(img)\n",
    "    x = np.expand_dims(x, axis=0)\n",
    "    x = preprocess_input(x)\n",
    "\n",
    "    features = model.predict(x)\n",
    "    flattened_features = features.flatten()\n",
    "    normalized_features = flattened_features / np.linalg.norm(flattened_features)\n",
    "    return normalized_features.reshape(-1,1).T[0]"
   ]
  },
  {
   "cell_type": "code",
   "execution_count": 112,
   "metadata": {
    "collapsed": false
   },
   "outputs": [],
   "source": [
    "pathX = 'media\\images\\dataX\\oxbuild_images-v1'\n",
    "pathY = 'media\\images\\dataY\\gt_files_170407'\n",
    "query_files = os.listdir(pathY)"
   ]
  },
  {
   "cell_type": "code",
   "execution_count": 119,
   "metadata": {
    "collapsed": false
   },
   "outputs": [
    {
     "name": "stdout",
     "output_type": "stream",
     "text": [
      "Query: oxc1_all_souls_000013\n",
      "1/1 [==============================] - 0s 392ms/step\n",
      "Query: oxc1_all_souls_000026\n",
      "1/1 [==============================] - 0s 269ms/step\n",
      "Query: oxc1_oxford_002985\n",
      "1/1 [==============================] - 0s 238ms/step\n",
      "Query: oxc1_all_souls_000051\n",
      "1/1 [==============================] - 0s 223ms/step\n",
      "Query: oxc1_oxford_003410\n",
      "1/1 [==============================] - 0s 248ms/step\n",
      "Query: oxc1_ashmolean_000058\n",
      "1/1 [==============================] - 0s 230ms/step\n",
      "Query: oxc1_ashmolean_000000\n",
      "1/1 [==============================] - 0s 219ms/step\n",
      "Query: oxc1_ashmolean_000269\n",
      "1/1 [==============================] - 0s 224ms/step\n",
      "Query: oxc1_ashmolean_000007\n",
      "1/1 [==============================] - 0s 226ms/step\n",
      "Query: oxc1_ashmolean_000305\n",
      "1/1 [==============================] - 0s 229ms/step\n",
      "Query: oxc1_balliol_000051\n",
      "1/1 [==============================] - 0s 219ms/step\n",
      "Query: oxc1_balliol_000187\n",
      "1/1 [==============================] - 0s 219ms/step\n",
      "Query: oxc1_balliol_000167\n",
      "1/1 [==============================] - 0s 219ms/step\n",
      "Query: oxc1_balliol_000194\n",
      "1/1 [==============================] - 0s 218ms/step\n",
      "Query: oxc1_oxford_001753\n",
      "1/1 [==============================] - 0s 227ms/step\n",
      "Query: oxc1_bodleian_000107\n",
      "1/1 [==============================] - 0s 215ms/step\n",
      "Query: oxc1_oxford_002416\n",
      "1/1 [==============================] - 0s 235ms/step\n",
      "Query: oxc1_bodleian_000108\n",
      "1/1 [==============================] - 0s 222ms/step\n",
      "Query: oxc1_bodleian_000407\n",
      "1/1 [==============================] - 0s 220ms/step\n",
      "Query: oxc1_bodleian_000163\n",
      "1/1 [==============================] - 0s 220ms/step\n",
      "Query: oxc1_christ_church_000179\n",
      "1/1 [==============================] - 0s 222ms/step\n",
      "Query: oxc1_oxford_002734\n",
      "1/1 [==============================] - 0s 219ms/step\n",
      "Query: oxc1_christ_church_000999\n",
      "1/1 [==============================] - 0s 227ms/step\n",
      "Query: oxc1_christ_church_001020\n",
      "1/1 [==============================] - 0s 219ms/step\n",
      "Query: oxc1_oxford_002562\n",
      "1/1 [==============================] - 0s 220ms/step\n",
      "Query: oxc1_cornmarket_000047\n",
      "1/1 [==============================] - 0s 224ms/step\n",
      "Query: oxc1_cornmarket_000105\n",
      "1/1 [==============================] - 0s 220ms/step\n",
      "Query: oxc1_cornmarket_000019\n",
      "1/1 [==============================] - 0s 237ms/step\n",
      "Query: oxc1_oxford_000545\n",
      "1/1 [==============================] - 0s 223ms/step\n",
      "Query: oxc1_cornmarket_000131\n",
      "1/1 [==============================] - 0s 226ms/step\n",
      "Query: oxc1_hertford_000015\n",
      "1/1 [==============================] - 0s 227ms/step\n",
      "Query: oxc1_oxford_001752\n",
      "1/1 [==============================] - 0s 224ms/step\n",
      "Query: oxc1_oxford_000317\n",
      "1/1 [==============================] - 0s 219ms/step\n",
      "Query: oxc1_hertford_000027\n",
      "1/1 [==============================] - 0s 216ms/step\n",
      "Query: oxc1_hertford_000063\n",
      "1/1 [==============================] - 0s 225ms/step\n",
      "Query: oxc1_keble_000245\n",
      "1/1 [==============================] - 0s 218ms/step\n",
      "Query: oxc1_keble_000214\n",
      "1/1 [==============================] - 0s 221ms/step\n",
      "Query: oxc1_keble_000227\n",
      "1/1 [==============================] - 0s 217ms/step\n",
      "Query: oxc1_keble_000028\n",
      "1/1 [==============================] - 0s 221ms/step\n",
      "Query: oxc1_keble_000055\n",
      "1/1 [==============================] - 0s 228ms/step\n",
      "Query: oxc1_magdalen_000078\n",
      "1/1 [==============================] - 0s 227ms/step\n",
      "Query: oxc1_oxford_003335\n",
      "1/1 [==============================] - 0s 217ms/step\n",
      "Query: oxc1_magdalen_000058\n",
      "1/1 [==============================] - 0s 237ms/step\n",
      "Query: oxc1_oxford_001115\n",
      "1/1 [==============================] - 0s 231ms/step\n",
      "Query: oxc1_magdalen_000560\n",
      "1/1 [==============================] - 0s 227ms/step\n",
      "Query: oxc1_pitt_rivers_000033\n",
      "1/1 [==============================] - 0s 220ms/step\n",
      "Query: oxc1_pitt_rivers_000119\n",
      "1/1 [==============================] - 0s 221ms/step\n",
      "Query: oxc1_pitt_rivers_000153\n",
      "1/1 [==============================] - 0s 227ms/step\n",
      "Query: oxc1_pitt_rivers_000087\n",
      "1/1 [==============================] - 0s 256ms/step\n",
      "Query: oxc1_pitt_rivers_000058\n",
      "1/1 [==============================] - 0s 246ms/step\n",
      "Query: oxc1_radcliffe_camera_000519\n",
      "1/1 [==============================] - 0s 249ms/step\n",
      "Query: oxc1_oxford_002904\n",
      "1/1 [==============================] - 0s 227ms/step\n",
      "Query: oxc1_radcliffe_camera_000523\n",
      "1/1 [==============================] - 0s 239ms/step\n",
      "Query: oxc1_radcliffe_camera_000095\n",
      "1/1 [==============================] - 0s 233ms/step\n",
      "Query: oxc1_bodleian_000132\n",
      "1/1 [==============================] - 0s 239ms/step\n"
     ]
    }
   ],
   "source": [
    "for i in range(3, len(query_files), 4):\n",
    "    query = open(pathY + '\\\\' + query_files[i]).read()[:-1].split(' ')\n",
    "    x = int(float(query[1]))\n",
    "    y = int(float(query[2]))\n",
    "    w = int(float(query[3]))\n",
    "    h = int(float(query[4]))\n",
    "    good_results = open(pathY + '\\\\' + query_files[i-3]).readlines()\n",
    "    ok_results = open(pathY + '\\\\' + query_files[i-1]).readlines()\n",
    "    #junk_results = open(pathY + '\\\\' + query_files[i-2]).readlines()\n",
    "\n",
    "    accept_results = good_results + ok_results #+ junk_results\n",
    "    accept_results = [i[:-1] for i in accept_results]\n",
    "\n",
    "    print('Query:', query[0])\n",
    "\n",
    "    img = cv2.imread(pathX + '\\\\' + query[0][5:] + '.jpg')\n",
    "    cv2.imwrite('cut\\\\' + query[0][5:] + '.jpg', img[y:y+h, x:x+w])\n",
    "\n",
    "    dist, indx = kd.query(feature_extract('cut\\\\' + query[0][5:] + '.jpg', model).reshape(-1,1).T, len(feature_list))\n",
    "\n",
    "    index = []\n",
    "    distance = []\n",
    "    label = []\n",
    "    for j in range(len(feature_list)):\n",
    "        index.append(indx[0][j])\n",
    "        distance.append(dist[0][j])\n",
    "        label.append(1) if feature_id[indx[0][j]].split('/')[-1][:-4] in accept_results else label.append(0)\n",
    "\n",
    "    df = pd.DataFrame(data={\"index\": index, \"distance\": distance, \"label\": label})\n",
    "    df.to_csv('retrieval_query_results/query_' + query[0] + '.csv', index=False)"
   ]
  },
  {
   "cell_type": "code",
   "execution_count": null,
   "metadata": {
    "collapsed": false
   },
   "outputs": [],
   "source": []
  }
 ],
 "metadata": {
  "kernelspec": {
   "display_name": "django",
   "language": "python",
   "name": "python3"
  },
  "language_info": {
   "codemirror_mode": {
    "name": "ipython",
    "version": 2
   },
   "file_extension": ".py",
   "mimetype": "text/x-python",
   "name": "python",
   "nbconvert_exporter": "python",
   "pygments_lexer": "ipython2",
   "version": "3.10.9"
  },
  "vscode": {
   "interpreter": {
    "hash": "89b7e2948a20d6004e328c37640097fab0aafe240ed2588a82663d21d6666c1a"
   }
  }
 },
 "nbformat": 4,
 "nbformat_minor": 0
}
